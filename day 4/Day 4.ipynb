{
 "cells": [
  {
   "cell_type": "code",
   "execution_count": 5,
   "metadata": {
    "collapsed": true
   },
   "outputs": [],
   "source": [
    "input = open(\"input.txt\", \"r\").read()\n",
    "logs = input.splitlines()\n",
    "logs.sort()"
   ]
  },
  {
   "cell_type": "code",
   "execution_count": 35,
   "metadata": {
    "collapsed": false
   },
   "outputs": [
    {
     "name": "stdout",
     "output_type": "stream",
     "text": [
      "#733\n",
      "48\n",
      "35184\n"
     ]
    }
   ],
   "source": [
    "import numpy as np\n",
    "guards = {}\n",
    "last_id = \"\"\n",
    "last_min_asleep = 0\n",
    "for log in logs:\n",
    "    if (log.split(\" \")[2] == \"Guard\"):\n",
    "        last_id = log.split(\" \")[3]\n",
    "    min = int(log.split(\" \")[1].split(\":\")[1][:-1])\n",
    "    if (log.split(\" \")[1].split(\":\")[1] == \"23\"):\n",
    "        min = 0\n",
    "    if (log.split(\" \")[2] == \"falls\"):\n",
    "        last_min_asleep = min\n",
    "    if (log.split(\" \")[2] == \"wakes\"):\n",
    "        asleap_count = []\n",
    "        if (last_id in guards):\n",
    "            asleep_count = guards[last_id]\n",
    "        else:\n",
    "            asleep_count = np.zeros(60)\n",
    "        for i in range(last_min_asleep, min):\n",
    "            asleep_count[i] += 1\n",
    "        guards[last_id] = asleep_count\n",
    "#     print(log)\n",
    "# print(guards)\n",
    "\n",
    "max = 0\n",
    "max_id = \"\"\n",
    "for id, asleep_count in guards.items():\n",
    "    total_time_asleep = asleep_count.sum()\n",
    "    if (total_time_asleep > max):\n",
    "        max = total_time_asleep\n",
    "        max_id = id\n",
    "print(max_id)\n",
    "max_asleep_count = guards[max_id]\n",
    "print(max_asleep_count.argmax())\n",
    "print(int(max_id[1:]) * max_asleep_count.argmax())"
   ]
  },
  {
   "cell_type": "code",
   "execution_count": 38,
   "metadata": {
    "collapsed": false
   },
   "outputs": [
    {
     "name": "stdout",
     "output_type": "stream",
     "text": [
      "#997\n",
      "38\n",
      "37886\n"
     ]
    }
   ],
   "source": [
    "max = 0\n",
    "max_id = \"\"\n",
    "for id, asleep_count in guards.items():\n",
    "    max_min = asleep_count.max()\n",
    "    if (max_min > max):\n",
    "        max = max_min\n",
    "        max_id = id\n",
    "print(max_id)\n",
    "max_asleep_count = guards[max_id]\n",
    "print(max_asleep_count.argmax())\n",
    "print(int(max_id[1:]) * max_asleep_count.argmax())"
   ]
  },
  {
   "cell_type": "code",
   "execution_count": null,
   "metadata": {
    "collapsed": true
   },
   "outputs": [],
   "source": []
  }
 ],
 "metadata": {
  "kernelspec": {
   "display_name": "Python 3",
   "language": "python",
   "name": "python3"
  },
  "language_info": {
   "codemirror_mode": {
    "name": "ipython",
    "version": 3
   },
   "file_extension": ".py",
   "mimetype": "text/x-python",
   "name": "python",
   "nbconvert_exporter": "python",
   "pygments_lexer": "ipython3",
   "version": "3.6.0"
  }
 },
 "nbformat": 4,
 "nbformat_minor": 2
}
