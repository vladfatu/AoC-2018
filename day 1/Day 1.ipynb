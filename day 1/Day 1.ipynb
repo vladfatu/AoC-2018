{
 "cells": [
  {
   "cell_type": "code",
   "execution_count": 20,
   "metadata": {
    "collapsed": false
   },
   "outputs": [],
   "source": [
    "input = open(\"input.txt\", \"r\").read()\n",
    "numbers = input.splitlines()"
   ]
  },
  {
   "cell_type": "code",
   "execution_count": 21,
   "metadata": {
    "collapsed": false
   },
   "outputs": [
    {
     "name": "stdout",
     "output_type": "stream",
     "text": [
      "538\n"
     ]
    }
   ],
   "source": [
    "sum = 0\n",
    "for number in numbers:\n",
    "    if (number[0] == '-'):\n",
    "        sum -= int(number[1:])\n",
    "    else :\n",
    "        sum += int(number[1:])\n",
    "print(sum)"
   ]
  },
  {
   "cell_type": "code",
   "execution_count": 22,
   "metadata": {
    "collapsed": false
   },
   "outputs": [
    {
     "name": "stdout",
     "output_type": "stream",
     "text": [
      "77271\n"
     ]
    }
   ],
   "source": [
    "used_freq = set([0])\n",
    "sum = 0\n",
    "repeat = True\n",
    "while (repeat):\n",
    "    for number in numbers:\n",
    "        if (number[0] == '-'):\n",
    "            sum -= int(number[1:])\n",
    "        else :\n",
    "            sum += int(number[1:])\n",
    "        if (sum in used_freq) :\n",
    "            repeat = False\n",
    "            break;\n",
    "        used_freq.add(sum)\n",
    "print(sum)"
   ]
  },
  {
   "cell_type": "code",
   "execution_count": null,
   "metadata": {
    "collapsed": true
   },
   "outputs": [],
   "source": []
  }
 ],
 "metadata": {
  "kernelspec": {
   "display_name": "Python 3",
   "language": "python",
   "name": "python3"
  },
  "language_info": {
   "codemirror_mode": {
    "name": "ipython",
    "version": 3
   },
   "file_extension": ".py",
   "mimetype": "text/x-python",
   "name": "python",
   "nbconvert_exporter": "python",
   "pygments_lexer": "ipython3",
   "version": "3.6.0"
  }
 },
 "nbformat": 4,
 "nbformat_minor": 2
}
