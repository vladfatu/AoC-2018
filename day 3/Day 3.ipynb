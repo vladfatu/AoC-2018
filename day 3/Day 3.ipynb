{
 "cells": [
  {
   "cell_type": "code",
   "execution_count": 22,
   "metadata": {
    "collapsed": true
   },
   "outputs": [],
   "source": [
    "input = open(\"input.txt\", \"r\").read()\n",
    "claims = input.splitlines()"
   ]
  },
  {
   "cell_type": "code",
   "execution_count": 23,
   "metadata": {
    "collapsed": false
   },
   "outputs": [
    {
     "name": "stdout",
     "output_type": "stream",
     "text": [
      "107663\n"
     ]
    }
   ],
   "source": [
    "import numpy as np\n",
    "fabric = np.zeros((1000, 1000))\n",
    "for claim in claims:\n",
    "    position = claim.split(\" \")[2][:-1]\n",
    "    y_position = int(position.split(\",\")[0])\n",
    "    x_position = int(position.split(\",\")[1])\n",
    "    size = claim.split(\": \")[1]\n",
    "    width = int(size.split(\"x\")[0])\n",
    "    height = int(size.split(\"x\")[1])\n",
    "    for i in range (y_position, y_position + width):\n",
    "        for j in range (x_position, x_position + height):\n",
    "            fabric[i][j] += 1\n",
    "      \n",
    "sum = 0\n",
    "for i in range(0, 1000):\n",
    "    for j in range(0, 1000):\n",
    "        if (fabric[i][j] > 1):\n",
    "            sum += 1\n",
    "print(sum)"
   ]
  },
  {
   "cell_type": "code",
   "execution_count": 27,
   "metadata": {
    "collapsed": false
   },
   "outputs": [
    {
     "name": "stdout",
     "output_type": "stream",
     "text": [
      "1166\n"
     ]
    }
   ],
   "source": [
    "for claim in claims:\n",
    "    position = claim.split(\" \")[2][:-1]\n",
    "    y_position = int(position.split(\",\")[0])\n",
    "    x_position = int(position.split(\",\")[1])\n",
    "    size = claim.split(\": \")[1]\n",
    "    width = int(size.split(\"x\")[0])\n",
    "    height = int(size.split(\"x\")[1])\n",
    "    overlaps = False\n",
    "    for i in range (y_position, y_position + width):\n",
    "        for j in range (x_position, x_position + height):\n",
    "            if (fabric[i][j]>1):\n",
    "                overlaps = True\n",
    "    if not overlaps:\n",
    "        print(claim.split(\" \")[0][1:])\n",
    "        break\n",
    "      \n"
   ]
  },
  {
   "cell_type": "code",
   "execution_count": null,
   "metadata": {
    "collapsed": true
   },
   "outputs": [],
   "source": []
  }
 ],
 "metadata": {
  "kernelspec": {
   "display_name": "Python 3",
   "language": "python",
   "name": "python3"
  },
  "language_info": {
   "codemirror_mode": {
    "name": "ipython",
    "version": 3
   },
   "file_extension": ".py",
   "mimetype": "text/x-python",
   "name": "python",
   "nbconvert_exporter": "python",
   "pygments_lexer": "ipython3",
   "version": "3.6.0"
  }
 },
 "nbformat": 4,
 "nbformat_minor": 2
}
