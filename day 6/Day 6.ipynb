{
 "cells": [
  {
   "cell_type": "code",
   "execution_count": 97,
   "metadata": {
    "collapsed": true
   },
   "outputs": [],
   "source": [
    "input = open(\"input.txt\", \"r\").read()\n",
    "coordinates = input.splitlines()"
   ]
  },
  {
   "cell_type": "code",
   "execution_count": 98,
   "metadata": {
    "collapsed": false
   },
   "outputs": [
    {
     "name": "stdout",
     "output_type": "stream",
     "text": [
      "135, 127\n",
      "251, 77\n",
      "136, 244\n",
      "123, 169\n",
      "253, 257\n",
      "359, 309\n",
      "100, 247\n",
      "191, 323\n",
      "129, 323\n",
      "76, 284\n",
      "69, 56\n",
      "229, 266\n",
      "74, 216\n",
      "236, 130\n",
      "152, 126\n",
      "174, 319\n",
      "315, 105\n",
      "329, 146\n",
      "288, 51\n",
      "184, 344\n",
      "173, 69\n",
      "293, 80\n",
      "230, 270\n",
      "279, 84\n",
      "107, 163\n",
      "130, 176\n",
      "347, 114\n",
      "133, 331\n",
      "237, 300\n",
      "291, 283\n",
      "246, 297\n",
      "60, 359\n",
      "312, 278\n",
      "242, 76\n",
      "81, 356\n",
      "204, 291\n",
      "187, 335\n",
      "176, 98\n",
      "103, 274\n",
      "357, 144\n",
      "314, 118\n",
      "67, 196\n",
      "156, 265\n",
      "254, 357\n",
      "218, 271\n",
      "118, 94\n",
      "300, 189\n",
      "290, 356\n",
      "354, 91\n",
      "209, 334\n",
      "359\n",
      "359\n"
     ]
    }
   ],
   "source": [
    "max_width = 0\n",
    "max_height = 0\n",
    "for coordinate in coordinates:\n",
    "    x = int(coordinate.split(\", \")[0])\n",
    "    if (x>max_width):\n",
    "        max_width = x\n",
    "    y = int(coordinate.split(\", \")[1])\n",
    "    if (y>max_height):\n",
    "        max_height = y\n",
    "    print(coordinate)\n",
    "print(max_width)\n",
    "print(max_height)"
   ]
  },
  {
   "cell_type": "code",
   "execution_count": 99,
   "metadata": {
    "collapsed": false
   },
   "outputs": [
    {
     "name": "stdout",
     "output_type": "stream",
     "text": [
      "{'10': -931, '45': 3280, '20': 5177, '33': 2518, '1': 446, '18': 4121, '48': -1000, '23': 1212, '21': 1104, '16': 927, '37': 2065, '26': -850, '14': 2219, '13': 5794, '0': -117, '40': 1245, '17': 1961, '39': -987, '41': -933, '24': 2323, '3': 553, '46': 5975, '25': 3754, '44': 2580, '11': 1126, '4': 2896, '12': -926, '2': 3145, '6': -619, '5': -1000, '32': 3705, '29': 2095, '42': 2226, '9': -736, '38': 1617, '22': 352, '35': 1159, '30': 1346, '28': 831, '15': 1192, '8': 1692, '7': 502, '49': -1000, '31': -1000, '34': -1000, '47': -1000, '43': -1000, '27': -1000, '36': 286, None: 1, '19': -1000}\n",
      "5975\n"
     ]
    }
   ],
   "source": [
    "import numpy as np\n",
    "np.set_printoptions(threshold=np.inf)\n",
    "space = np.empty((max_height+1, max_width+1), dtype=object)\n",
    "for i in range(0, len(coordinates)):\n",
    "    x = int(coordinates[i].split(\", \")[0])\n",
    "    y = int(coordinates[i].split(\", \")[1])\n",
    "    space[y][x] = str(i)\n",
    "    \n",
    "# print(space)\n",
    "\n",
    "turn = 0\n",
    "\n",
    "def print_mat(space):\n",
    "    to_print = \"\\n\".join([\", \".join(row) for row in space])\n",
    "    print (to_print) #console\n",
    "\n",
    "    f = open(\"output.txt\", \"w\")\n",
    "    f.write(to_print) #to file\n",
    "\n",
    "def get_neighbours_id(space, max_height, max_width, y, x):\n",
    "    if (space[y][x] == None):\n",
    "        new_id = None\n",
    "#         if (y > 0 and x > 0):\n",
    "#             if (space[y-1][x-1] != None and space[y-1][x-1] != '.'):\n",
    "#                 if (new_id != None and space[y-1][x-1] != new_id):\n",
    "#                     return '.'\n",
    "#                 else:\n",
    "#                     new_id = space[y-1][x-1]\n",
    "        if (x > 0):\n",
    "            if (space[y][x-1] != None and space[y][x-1] != '.'):\n",
    "                if (new_id != None and space[y][x-1] != new_id):\n",
    "                    return '.'\n",
    "                else:\n",
    "                    new_id = space[y][x-1]\n",
    "#         if (y < max_height and x > 0):\n",
    "#             if (space[y+1][x-1] != None and space[y+1][x-1] != '.'):\n",
    "#                 if (new_id != None and space[y+1][x-1] != new_id):\n",
    "#                     return '.'\n",
    "#                 else:\n",
    "#                     new_id = space[y+1][x-1]\n",
    "        if (y > 0):\n",
    "            if (space[y-1][x] != None and space[y-1][x] != '.'):\n",
    "                if (new_id != None and space[y-1][x] != new_id):\n",
    "                    return '.'\n",
    "                else:\n",
    "                    new_id = space[y-1][x]\n",
    "        if (y < max_height):\n",
    "            if (space[y+1][x] != None and space[y+1][x] != '.'):\n",
    "                if (new_id != None and space[y+1][x] != new_id):\n",
    "                    return '.'\n",
    "                else:\n",
    "                    new_id = space[y+1][x]\n",
    "#         if (y > 0 and x < max_width):\n",
    "#             if (space[y-1][x+1] != None and space[y-1][x+1] != '.'):\n",
    "#                 if (new_id != None and space[y-1][x+1] != new_id):\n",
    "#                     return '.'\n",
    "#                 else:\n",
    "#                     new_id = space[y-1][x+1]\n",
    "        if (x < max_width):\n",
    "            if (space[y][x+1] != None and space[y][x+1] != '.'):\n",
    "                if (new_id != None and space[y][x+1] != new_id):\n",
    "                    return '.'\n",
    "                else:\n",
    "                    new_id = space[y][x+1]\n",
    "#         if (y < max_height and x < max_width):\n",
    "#             if (space[y+1][x+1] != None and space[y+1][x+1] != '.'):\n",
    "#                 if (new_id != None and space[y+1][x+1] != new_id):\n",
    "#                     return '.'\n",
    "#                 else:\n",
    "#                     new_id = space[y+1][x+1]\n",
    "        return new_id\n",
    "\n",
    "empty_elements = True\n",
    "while empty_elements:\n",
    "    space_clone = space.copy()\n",
    "    turn += 1\n",
    "#     print(turn)\n",
    "    \n",
    "    empty_elements = False\n",
    "    for y in range(0, max_height+1):\n",
    "        for x in range(0, max_width+1):\n",
    "            if (space[y][x] == None):\n",
    "                empty_elements = True\n",
    "                space[y][x] = get_neighbours_id(space_clone, max_height, max_width, y, x)\n",
    "    if (turn > 900):\n",
    "        empty_elements = False\n",
    "#         print(space)\n",
    "    \n",
    "counts = {}\n",
    "\n",
    "for y in range(0, max_height+1):\n",
    "    for x in range(0, max_width+1):\n",
    "        if (space[y][x] != '.'):\n",
    "            count = 1\n",
    "            if(space[y][x] in counts):\n",
    "                count = counts[space[y][x]] + 1\n",
    "            if (y == 0 or y == max_height or x == 0 or x == max_width):\n",
    "                count = -1000\n",
    "            counts[space[y][x]] = count\n",
    "            \n",
    "print(counts)\n",
    "print(max(counts.values()))"
   ]
  },
  {
   "cell_type": "code",
   "execution_count": 96,
   "metadata": {
    "collapsed": false
   },
   "outputs": [
    {
     "name": "stdout",
     "output_type": "stream",
     "text": [
      "38670\n"
     ]
    }
   ],
   "source": [
    "distances_space = np.zeros((max_height+1, max_width+1))\n",
    "\n",
    "for y in range(0, max_height+1):\n",
    "    for x in range(0, max_width+1):\n",
    "        sum = 0\n",
    "        for coordinate in coordinates:\n",
    "            sum += abs(y - int(coordinate.split(\", \")[1])) + abs(x - int(coordinate.split(\", \")[0]))\n",
    "        distances_space[y][x] = sum\n",
    "                                                    \n",
    "# print(distances_space)\n",
    "\n",
    "dist_count = 0\n",
    "for y in range(0, max_height+1):\n",
    "    for x in range(0, max_width+1):\n",
    "        if (distances_space[y][x] < 10000):\n",
    "            dist_count += 1\n",
    "            \n",
    "print(dist_count)"
   ]
  },
  {
   "cell_type": "code",
   "execution_count": null,
   "metadata": {
    "collapsed": true
   },
   "outputs": [],
   "source": []
  }
 ],
 "metadata": {
  "kernelspec": {
   "display_name": "Python 3",
   "language": "python",
   "name": "python3"
  },
  "language_info": {
   "codemirror_mode": {
    "name": "ipython",
    "version": 3
   },
   "file_extension": ".py",
   "mimetype": "text/x-python",
   "name": "python",
   "nbconvert_exporter": "python",
   "pygments_lexer": "ipython3",
   "version": "3.6.0"
  }
 },
 "nbformat": 4,
 "nbformat_minor": 2
}
