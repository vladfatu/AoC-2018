{
 "cells": [
  {
   "cell_type": "code",
   "execution_count": 3,
   "metadata": {
    "collapsed": false
   },
   "outputs": [],
   "source": [
    "input = open(\"input.txt\", \"r\").read()\n",
    "candidates = input.splitlines()"
   ]
  },
  {
   "cell_type": "code",
   "execution_count": 19,
   "metadata": {
    "collapsed": false
   },
   "outputs": [
    {
     "name": "stdout",
     "output_type": "stream",
     "text": [
      "4712\n"
     ]
    }
   ],
   "source": [
    "from collections import Counter\n",
    "\n",
    "twice = 0\n",
    "three_times = 0\n",
    "\n",
    "for candidate in candidates:\n",
    "    counter = Counter(candidate)\n",
    "    if (2 in counter.values()):\n",
    "        twice += 1\n",
    "    if (3 in counter.values()):\n",
    "        three_times += 1\n",
    "print(twice * three_times)"
   ]
  },
  {
   "cell_type": "code",
   "execution_count": 21,
   "metadata": {
    "collapsed": false
   },
   "outputs": [
    {
     "name": "stdout",
     "output_type": "stream",
     "text": [
      "lufjygedpvfbhftaxiwnaorzmq\n",
      "lufjygedpvfbhftbxiwnaorzmq\n",
      "lufjygedpvfbhftbxiwnaorzmq\n",
      "lufjygedpvfbhftaxiwnaorzmq\n"
     ]
    }
   ],
   "source": [
    "for c1 in candidates:\n",
    "    for c2 in candidates:\n",
    "        pos = -1\n",
    "        diff_count = 0\n",
    "        for i in range(0, len(c1)):\n",
    "            if (c1[i] != c2[i]):\n",
    "                diff_count+=1;\n",
    "                pos = i\n",
    "        if (diff_count == 1):\n",
    "            print(c1)\n",
    "            print(c2)"
   ]
  },
  {
   "cell_type": "code",
   "execution_count": null,
   "metadata": {
    "collapsed": true
   },
   "outputs": [],
   "source": []
  }
 ],
 "metadata": {
  "kernelspec": {
   "display_name": "Python 3",
   "language": "python",
   "name": "python3"
  },
  "language_info": {
   "codemirror_mode": {
    "name": "ipython",
    "version": 3
   },
   "file_extension": ".py",
   "mimetype": "text/x-python",
   "name": "python",
   "nbconvert_exporter": "python",
   "pygments_lexer": "ipython3",
   "version": "3.6.0"
  }
 },
 "nbformat": 4,
 "nbformat_minor": 2
}
